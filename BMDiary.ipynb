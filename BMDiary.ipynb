{
 "cells": [
  {
   "cell_type": "code",
   "execution_count": 1,
   "id": "145b75a2",
   "metadata": {},
   "outputs": [],
   "source": [
    "# 감성어 사전: 한국어 감성어 사전 - KNU 감성어 사전"
   ]
  },
  {
   "cell_type": "markdown",
   "id": "c8eef6c0",
   "metadata": {},
   "source": [
    "### +"
   ]
  },
  {
   "cell_type": "code",
   "execution_count": 6,
   "id": "362add81",
   "metadata": {},
   "outputs": [],
   "source": [
    "words = ['바다', '비', '비행기', '드라이브', '기차', '산', '계곡', '카페', '페스티벌', '공원']"
   ]
  },
  {
   "cell_type": "code",
   "execution_count": 3,
   "id": "12744c28",
   "metadata": {},
   "outputs": [],
   "source": [
    "# naver api\n",
    "\n",
    "# import os\n",
    "# import sys\n",
    "# import urllib.request\n",
    "# client_id = 'id'\n",
    "# client_secret = 'seceret'\n",
    "# encText = urllib.parse.quote(word)\n",
    "# # url = 'https://openapi.naver.com/v1/search/blog?query=' + encText # JSON 결과\n",
    "# url = \"https://openapi.naver.com/v1/search/blog.xml?query=\" + encText # XML 결과\n",
    "# request = urllib.request.Request(url)\n",
    "# request.add_header(\"X-Naver-Client-Id\",client_id)\n",
    "# request.add_header(\"X-Naver-Client-Secret\",client_secret)\n",
    "# response = urllib.request.urlopen(request)\n",
    "# rescode = response.getcode()\n",
    "# if(rescode==200):\n",
    "#     response_body = response.read()\n",
    "#     print(response_body.decode('utf-8'))\n",
    "# else:\n",
    "#     print(\"Error Code:\" + rescode)"
   ]
  },
  {
   "cell_type": "code",
   "execution_count": 1,
   "id": "7ae6bd4b",
   "metadata": {},
   "outputs": [],
   "source": [
    "import pandas as pd\n",
    "import time\n",
    "import re\n",
    "\n",
    "from webdriver_manager.chrome import ChromeDriverManager\n",
    "from selenium import webdriver\n",
    "from selenium.webdriver.support.ui import Select\n",
    "import requests\n",
    "from bs4 import BeautifulSoup\n",
    "\n",
    "from selenium.common.exceptions import NoSuchElementException\n",
    "from selenium.webdriver.common.by import By\n",
    "\n",
    "from konlpy.tag import * ; okt = Okt()"
   ]
  },
  {
   "cell_type": "code",
   "execution_count": 2,
   "id": "5d0d5a07",
   "metadata": {},
   "outputs": [],
   "source": [
    "def get_url(n, keyword):\n",
    "    urls = []\n",
    "    url_info = f'https://search.naver.com/search.naver?query={keyword}&nso=&where=blog&sm=tab_opt'\n",
    "\n",
    "    res = requests.get(url_info)\n",
    "    soup = BeautifulSoup(res.content, 'html.parser')\n",
    "\n",
    "    urls_info = soup.select('li.bx > div > div.total_area > a')\n",
    "\n",
    "    for i in range(0, n):\n",
    "        urls.append(urls_info[i]['href'])\n",
    "\n",
    "    urls = [url for url in urls if 'naver' in url]\n",
    "    return urls"
   ]
  },
  {
   "cell_type": "code",
   "execution_count": 3,
   "id": "a5121168",
   "metadata": {},
   "outputs": [],
   "source": [
    "def get_words(urls):\n",
    "    driver = webdriver.Chrome(ChromeDriverManager().install())\n",
    "    driver.implicitly_wait(3)\n",
    "\n",
    "    contents = []\n",
    "    for url in urls:\n",
    "\n",
    "        driver.get(url)\n",
    "        time.sleep(1)\n",
    "\n",
    "        driver.switch_to.frame(\"mainFrame\")\n",
    "\n",
    "        try:\n",
    "            content = driver.find_element(By.CSS_SELECTOR,'div.se-main-container').text\n",
    "            contents.append(content)\n",
    "\n",
    "        except NoSuchElementException:\n",
    "            content = driver.find_element(By.CSS_SELECTOR,'div#content-area').text\n",
    "            contents.append(content)\n",
    "        #print(본문: '\\n', content)\n",
    "\n",
    "    driver.quit()\n",
    "\n",
    "    return contents"
   ]
  },
  {
   "cell_type": "code",
   "execution_count": 4,
   "id": "1f259a28",
   "metadata": {},
   "outputs": [],
   "source": [
    "def make_df(n, words):\n",
    "    word_content =[]\n",
    "    today = time.strftime('%Y%m%d')\n",
    "    \n",
    "    for keyword in words:\n",
    "        urls = get_url(n, keyword)\n",
    "        content = get_words(urls)\n",
    "        content = ' '.join(content)\n",
    "\n",
    "        content = re.sub('[.!]', ' ', content)\n",
    "        content = re.sub('[^가-힣0-9a-zA-Z\\\\s]', '', content)\n",
    "        content = re.sub(' +', ' ', content)\n",
    "\n",
    "        content = okt.morphs(content)\n",
    "        content = [notoneword for notoneword in content if not len(notoneword) == 1]\n",
    "    \n",
    "        word_content.append(content)\n",
    "    \n",
    "    \n",
    "    category_words = pd.DataFrame({'테마':words, '단어':word_content})\n",
    "    category_words.to_csv(f'./data/CategoryWord_info_{today}.csv',encoding='utf-8-sig',index=False)"
   ]
  },
  {
   "cell_type": "code",
   "execution_count": 10,
   "id": "81b8c751",
   "metadata": {},
   "outputs": [
    {
     "name": "stderr",
     "output_type": "stream",
     "text": [
      "[WDM] - Downloading: 100%|█████████████████| 8.15M/8.15M [00:00<00:00, 61.1MB/s]\n",
      "/var/folders/mt/cl5sbk5935d2kz0_4_5kxkkr0000gn/T/ipykernel_90171/1564478895.py:2: DeprecationWarning: executable_path has been deprecated, please pass in a Service object\n",
      "  driver = webdriver.Chrome(ChromeDriverManager().install())\n"
     ]
    }
   ],
   "source": [
    "make_df(30,words)"
   ]
  },
  {
   "cell_type": "markdown",
   "id": "43f2a9e8",
   "metadata": {},
   "source": [
    "### ++"
   ]
  },
  {
   "cell_type": "code",
   "execution_count": 11,
   "id": "dd09d769",
   "metadata": {},
   "outputs": [],
   "source": [
    "import numpy as np\n",
    "import json\n",
    "import re\n",
    "import gensim\n",
    "\n",
    "from konlpy.tag import * ; okt = Okt()"
   ]
  },
  {
   "cell_type": "code",
   "execution_count": 12,
   "id": "bf16b43d",
   "metadata": {},
   "outputs": [],
   "source": [
    "class diary:\n",
    "    def __init__(self, text):\n",
    "        self.text = text\n",
    "        self.stop = 0\n",
    "        self.word_scores = []\n",
    "\n",
    "    def prep(self):\n",
    "        self.text = re.sub('[.!]', ' ', self.text)\n",
    "        self.test = re.sub('[^가-힣0-9a-zA-Z\\\\s]', '', self.text)\n",
    "        self.text = re.sub(' +', ' ', self.text)\n",
    "\n",
    "        return self.text\n",
    "\n",
    "    def tokenizer(self):\n",
    "        self.word_list = okt.morphs(self.text)\n",
    "        self.word_list = [notoneword for notoneword in self.word_list if not len(notoneword) == 1]\n",
    "        \n",
    "        return self.word_list\n",
    "    \n",
    "    def get_score(self):\n",
    "        with open('data/SentiWord_info.json', encoding='utf-8-sig', mode='r') as f:\n",
    "            data = json.load(f)\n",
    "        score = 0\n",
    "\n",
    "        for word in self.word_list:        \n",
    "            for i in range(0, len(data)):\n",
    "                if data[i]['word'] == word:\n",
    "                    s_word = data[i]['polarity']\n",
    "                    self.word_scores.append(int(s_word))\n",
    "                \n",
    "        return self.word_scores\n",
    "\n",
    "    def get_ratio(self):\n",
    "        ent_score = 0\n",
    "        \n",
    "        ent_score = np.sum(self.word_scores)\n",
    "        length = np.log10(len(self.word_scores))+1\n",
    "\n",
    "        try:\n",
    "            self.ratio= round(ent_score/length,2)\n",
    "        except:\n",
    "            self.ratio = 0\n",
    "\n",
    "        return self.ratio\n",
    "    \n",
    "    \n",
    "#     def update_dict(self):\n",
    "        "
   ]
  },
  {
   "cell_type": "code",
   "execution_count": 26,
   "id": "3bdd6654",
   "metadata": {},
   "outputs": [],
   "source": [
    "class result:\n",
    "    def __init__(self, text):\n",
    "        self.text = text\n",
    "        res = diary(self.text)\n",
    "        res.prep()\n",
    "        res.prep()\n",
    "        res.tokenizer()\n",
    "        token = res.tokenizer()\n",
    "        res.get_score()\n",
    "        ratio = res.get_ratio()\n",
    "        \n",
    "        if ratio < -1: feel = 'Dark'\n",
    "        elif ratio >1: feel = 'Bright'\n",
    "        else: feel = 'Mid'\n",
    "        \n",
    "        # 임시 카운터\n",
    "        words = ['바다', '비', '비행기', '드라이브', '기차', '산', '계곡', '카페', '페스티벌', '공원']\n",
    "        count = [0, 0, 0, 0, 0, 0, 0, 0, 0, 0]\n",
    "        \n",
    "        for i in range(0, len(words)):\n",
    "            for j in range(0, len(token)):\n",
    "                if words[i] in token[j]: count[i] += 1\n",
    "        \n",
    "        try: noise = words[np.argmax(count)]\n",
    "        except: noise = 'nomal'\n",
    "        \n",
    "        print('\\n', ratio, '의 정도로 ', feel, '이다.', '\\n', '그리고 noise는', noise, '이다.')\n",
    "        \n",
    "#         return ratio, feel, noise"
   ]
  },
  {
   "cell_type": "code",
   "execution_count": 27,
   "id": "f24375fe",
   "metadata": {},
   "outputs": [
    {
     "name": "stdout",
     "output_type": "stream",
     "text": [
      "\n",
      " 2.5 의 정도로  Bright 이다. \n",
      " 그리고 noise는 카페 이다.\n"
     ]
    },
    {
     "data": {
      "text/plain": [
       "<__main__.result at 0x7ff058a47f10>"
      ]
     },
     "execution_count": 27,
     "metadata": {},
     "output_type": "execute_result"
    }
   ],
   "source": [
    "result('오늘은 부산에 여행온지 2일차가 되었다. 친구들과 남포동에 택시를 타고 갔더니 어제 마신 술이 올라오는 것 같아서 어지러웠다. 그래도 도착해서 점심으로 먹은 피자와 파스타는 엄청 맛있었다. 오후에는 시장 구경을 다니다가 잠시 쉬기 위해 만화카페에 들어갔다. 만화카페에 고양이가 있었는데 너무 귀여워서 사진을 찍었다. 고양이는 앞으로 세상을 구할 것이다. 저녁시간이 다 되어서 만화카페를 나왔을 때 비가 내리기 시작했다. 아무래도 장마철에 여행을 와서 그런지 장대비가 쏟아져 내렸다. 한 여름이였지만 날이 너무 시원하고 옷은 축축했다. 기분이 좋은데 나빴달까. 이 후에 저녁 식사를 위해 삼겹살 집에 다녀왔다. 가게에서는 특이한 술잔을 사용하고 있어서 신기했다. 낮에 숙취를 겪었어도 여행 내내 술이 빠질 수는 없다. 이런저런 일들이 많았지만 참 즐거운 하루였다!')"
   ]
  },
  {
   "cell_type": "code",
   "execution_count": null,
   "id": "840d805e",
   "metadata": {},
   "outputs": [],
   "source": []
  }
 ],
 "metadata": {
  "kernelspec": {
   "display_name": "Python 3 (ipykernel)",
   "language": "python",
   "name": "python3"
  },
  "language_info": {
   "codemirror_mode": {
    "name": "ipython",
    "version": 3
   },
   "file_extension": ".py",
   "mimetype": "text/x-python",
   "name": "python",
   "nbconvert_exporter": "python",
   "pygments_lexer": "ipython3",
   "version": "3.9.7"
  }
 },
 "nbformat": 4,
 "nbformat_minor": 5
}
